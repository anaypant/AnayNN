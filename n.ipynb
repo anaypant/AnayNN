{
 "cells": [
  {
   "cell_type": "markdown",
   "metadata": {},
   "source": []
  },
  {
   "cell_type": "code",
   "execution_count": 10,
   "metadata": {},
   "outputs": [],
   "source": [
    "import AnayModel\n",
    "from keras.datasets import mnist"
   ]
  },
  {
   "cell_type": "code",
   "execution_count": 11,
   "metadata": {},
   "outputs": [],
   "source": [
    "anay = AnayModel.mlp()\n",
    "anay.addInputLayer(784)\n",
    "anay.addDenseLayer(128, 'relu')\n",
    "anay.addDenseLayer(10, 'softmax')"
   ]
  },
  {
   "cell_type": "code",
   "execution_count": 12,
   "metadata": {},
   "outputs": [],
   "source": [
    "(testX, testY), (trialX, trialY) = mnist.load_data()\n",
    "testX = testX[0:2000]\n",
    "testY = testY[0:2000]\n",
    "trialX = trialX[0:200]\n",
    "trialY = trialY[0:200]\n",
    "\n",
    "# flatten the x's and onehot the y's\n",
    "test"
   ]
  },
  {
   "cell_type": "code",
   "execution_count": 13,
   "metadata": {},
   "outputs": [
    {
     "ename": "BaseException",
     "evalue": "Dimensions of samples in x do not match size 784",
     "output_type": "error",
     "traceback": [
      "\u001b[1;31m---------------------------------------------------------------------------\u001b[0m",
      "\u001b[1;31mBaseException\u001b[0m                             Traceback (most recent call last)",
      "Cell \u001b[1;32mIn[13], line 1\u001b[0m\n\u001b[1;32m----> 1\u001b[0m anay\u001b[39m.\u001b[39;49mfit(testX,testY,trialX,trialY,\u001b[39m10000\u001b[39;49m,learningRate\u001b[39m=\u001b[39;49m\u001b[39m1\u001b[39;49m)\n",
      "File \u001b[1;32md:\\Python Projects 2\\AnayNN\\AnayModel.py:183\u001b[0m, in \u001b[0;36mmlp.fit\u001b[1;34m(self, x, y, trialX, trialY, iterations, learningRate, pBar, plot, validation_clip)\u001b[0m\n\u001b[0;32m    181\u001b[0m     \u001b[39mraise\u001b[39;00m \u001b[39mTypeError\u001b[39;00m(\u001b[39m\"\u001b[39m\u001b[39mx is not a 2d array\u001b[39m\u001b[39m\"\u001b[39m)\n\u001b[0;32m    182\u001b[0m \u001b[39mif\u001b[39;00m \u001b[39mlen\u001b[39m(x[\u001b[39m0\u001b[39m]) \u001b[39m!=\u001b[39m \u001b[39mself\u001b[39m\u001b[39m.\u001b[39m__shape[\u001b[39m0\u001b[39m]:\n\u001b[1;32m--> 183\u001b[0m     \u001b[39mraise\u001b[39;00m \u001b[39mBaseException\u001b[39;00m(\n\u001b[0;32m    184\u001b[0m         \u001b[39m\"\u001b[39m\u001b[39mDimensions of samples in x do not match size \u001b[39m\u001b[39m\"\u001b[39m \u001b[39m+\u001b[39m \u001b[39mstr\u001b[39m(\u001b[39mself\u001b[39m\u001b[39m.\u001b[39m__shape[\u001b[39m0\u001b[39m]))\n\u001b[0;32m    185\u001b[0m \u001b[39mif\u001b[39;00m \u001b[39mnot\u001b[39;00m \u001b[39mtype\u001b[39m(y) \u001b[39m==\u001b[39m \u001b[39mlist\u001b[39m \u001b[39mand\u001b[39;00m \u001b[39mtype\u001b[39m(y[\u001b[39m0\u001b[39m]) \u001b[39m==\u001b[39m \u001b[39mlist\u001b[39m:\n\u001b[0;32m    186\u001b[0m     \u001b[39mraise\u001b[39;00m \u001b[39mTypeError\u001b[39;00m(\u001b[39m\"\u001b[39m\u001b[39mCore: y is not a 2d array\u001b[39m\u001b[39m\"\u001b[39m)\n",
      "\u001b[1;31mBaseException\u001b[0m: Dimensions of samples in x do not match size 784"
     ]
    }
   ],
   "source": [
    "anay.fit(testX,testY,trialX,trialY,10000,learningRate=1)"
   ]
  },
  {
   "cell_type": "code",
   "execution_count": null,
   "metadata": {},
   "outputs": [
    {
     "name": "stdout",
     "output_type": "stream",
     "text": [
      "[[0.99164749]]\n"
     ]
    }
   ],
   "source": [
    "print(anay.predict([[0,1,1]]))"
   ]
  }
 ],
 "metadata": {
  "kernelspec": {
   "display_name": "Python 3",
   "language": "python",
   "name": "python3"
  },
  "language_info": {
   "codemirror_mode": {
    "name": "ipython",
    "version": 3
   },
   "file_extension": ".py",
   "mimetype": "text/x-python",
   "name": "python",
   "nbconvert_exporter": "python",
   "pygments_lexer": "ipython3",
   "version": "3.9.6"
  },
  "orig_nbformat": 4,
  "vscode": {
   "interpreter": {
    "hash": "2469a70536e4d2335a2ea8907942d0699c37342a371ac185bdb5b0aa6f073890"
   }
  }
 },
 "nbformat": 4,
 "nbformat_minor": 2
}
